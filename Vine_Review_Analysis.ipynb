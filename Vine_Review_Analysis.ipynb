{
  "nbformat": 4,
  "nbformat_minor": 0,
  "metadata": {
    "colab": {
      "name": "Vine_Review_Analysis.ipynb",
      "provenance": [],
      "collapsed_sections": [],
      "authorship_tag": "ABX9TyO/Ln/tCkXg0DcOkm5wuO9k"
    },
    "kernelspec": {
      "name": "python3",
      "display_name": "Python 3"
    },
    "language_info": {
      "name": "python"
    }
  },
  "cells": [
    {
      "cell_type": "code",
      "metadata": {
        "colab": {
          "base_uri": "https://localhost:8080/"
        },
        "id": "FQg_8yiKupJb",
        "outputId": "1b415423-1162-4a5e-d6f0-8f8bf9061f79"
      },
      "source": [
        "import os\n",
        "# Find the latest version of spark 3.0 from http://www.apache.org/dist/spark/ and enter as the spark version\n",
        "# For example:\n",
        "# spark_version = 'spark-3.0.3'\n",
        "spark_version = 'spark-3.0.3'\n",
        "os.environ['SPARK_VERSION']=spark_version\n",
        "\n",
        "# Install Spark and Java\n",
        "!apt-get update\n",
        "!apt-get install openjdk-11-jdk-headless -qq > /dev/null\n",
        "!wget -q http://www.apache.org/dist/spark/$SPARK_VERSION/$SPARK_VERSION-bin-hadoop2.7.tgz\n",
        "!tar xf $SPARK_VERSION-bin-hadoop2.7.tgz\n",
        "!pip install -q findspark\n",
        "\n",
        "# Set Environment Variables\n",
        "import os\n",
        "os.environ[\"JAVA_HOME\"] = \"/usr/lib/jvm/java-11-openjdk-amd64\"\n",
        "os.environ[\"SPARK_HOME\"] = f\"/content/{spark_version}-bin-hadoop2.7\"\n",
        "\n",
        "# Start a SparkSession\n",
        "import findspark\n",
        "findspark.init()"
      ],
      "execution_count": 1,
      "outputs": [
        {
          "output_type": "stream",
          "name": "stdout",
          "text": [
            "\r0% [Working]\r            \rGet:1 http://security.ubuntu.com/ubuntu bionic-security InRelease [88.7 kB]\n",
            "Get:2 https://cloud.r-project.org/bin/linux/ubuntu bionic-cran40/ InRelease [3,626 B]\n",
            "Ign:3 https://developer.download.nvidia.com/compute/cuda/repos/ubuntu1804/x86_64  InRelease\n",
            "Hit:4 http://archive.ubuntu.com/ubuntu bionic InRelease\n",
            "Hit:5 http://ppa.launchpad.net/c2d4u.team/c2d4u4.0+/ubuntu bionic InRelease\n",
            "Get:6 http://archive.ubuntu.com/ubuntu bionic-updates InRelease [88.7 kB]\n",
            "Ign:7 https://developer.download.nvidia.com/compute/machine-learning/repos/ubuntu1804/x86_64  InRelease\n",
            "Hit:8 https://developer.download.nvidia.com/compute/cuda/repos/ubuntu1804/x86_64  Release\n",
            "Hit:9 https://developer.download.nvidia.com/compute/machine-learning/repos/ubuntu1804/x86_64  Release\n",
            "Hit:10 http://ppa.launchpad.net/cran/libgit2/ubuntu bionic InRelease\n",
            "Get:11 http://archive.ubuntu.com/ubuntu bionic-backports InRelease [74.6 kB]\n",
            "Hit:12 http://ppa.launchpad.net/deadsnakes/ppa/ubuntu bionic InRelease\n",
            "Hit:13 http://ppa.launchpad.net/graphics-drivers/ppa/ubuntu bionic InRelease\n",
            "Get:14 http://security.ubuntu.com/ubuntu bionic-security/universe amd64 Packages [1,431 kB]\n",
            "Get:17 http://archive.ubuntu.com/ubuntu bionic-updates/universe amd64 Packages [2,210 kB]\n",
            "Get:18 http://archive.ubuntu.com/ubuntu bionic-updates/restricted amd64 Packages [640 kB]\n",
            "Get:19 http://archive.ubuntu.com/ubuntu bionic-updates/main amd64 Packages [2,803 kB]\n",
            "Fetched 7,341 kB in 4s (2,027 kB/s)\n",
            "Reading package lists... Done\n"
          ]
        }
      ]
    },
    {
      "cell_type": "code",
      "metadata": {
        "id": "zNTbkT3RvAfP"
      },
      "source": [
        "from pyspark.sql import SparkSession\n",
        "spark = SparkSession.builder.appName(\"M16-Amazon-Challenge-2\").config(\"spark.driver.extraClassPath\",\"/content/postgresql-42.2.16.jar\").getOrCreate()"
      ],
      "execution_count": 2,
      "outputs": []
    },
    {
      "cell_type": "code",
      "metadata": {
        "colab": {
          "base_uri": "https://localhost:8080/"
        },
        "id": "W-pB3ne9vJp-",
        "outputId": "6c656bac-9e99-4240-8991-e4d530303afe"
      },
      "source": [
        "from pyspark import SparkFiles\n",
        "url = \"https://s3.amazonaws.com/amazon-reviews-pds/tsv/amazon_reviews_us_Mobile_Electronics_v1_00.tsv.gz\"\n",
        "spark.sparkContext.addFile(url)\n",
        "df = spark.read.option(\"encoding\", \"UTF-8\").csv(SparkFiles.get(\"\"), sep=\"\\t\", header=True, inferSchema=True)\n",
        "df.show()"
      ],
      "execution_count": 3,
      "outputs": [
        {
          "output_type": "stream",
          "name": "stdout",
          "text": [
            "+-----------+-----------+--------------+----------+--------------+--------------------+------------------+-----------+-------------+-----------+----+-----------------+--------------------+--------------------+-----------+\n",
            "|marketplace|customer_id|     review_id|product_id|product_parent|       product_title|  product_category|star_rating|helpful_votes|total_votes|vine|verified_purchase|     review_headline|         review_body|review_date|\n",
            "+-----------+-----------+--------------+----------+--------------+--------------------+------------------+-----------+-------------+-----------+----+-----------------+--------------------+--------------------+-----------+\n",
            "|         US|   20422322| R8MEA6IGAHO0B|B00MC4CED8|     217304173|BlackVue DR600GW-PMP|Mobile_Electronics|          5|            0|          0|   N|                Y|         Very Happy!|As advertised. Ev...| 2015-08-31|\n",
            "|         US|   40835037|R31LOQ8JGLPRLK|B00OQMFG1Q|     137313254|GENSSI GSM / GPS ...|Mobile_Electronics|          5|            0|          1|   N|                Y|           five star|          it's great| 2015-08-31|\n",
            "|         US|   51469641|R2Y0MM9YE6OP3P|B00QERR5CY|      82850235|iXCC Multi pack L...|Mobile_Electronics|          5|            0|          0|   N|                Y|        great cables|These work great ...| 2015-08-31|\n",
            "|         US|    4332923| RRB9C05HDOD4O|B00QUFTPV4|     221169481|abcGoodefg® FBI C...|Mobile_Electronics|          4|            0|          0|   N|                Y|Work very well bu...|Work very well bu...| 2015-08-31|\n",
            "|         US|   44855305|R26I2RI1GFV8QG|B0067XVNTG|     563475445|Generic Car Dashb...|Mobile_Electronics|          2|            0|          0|   N|                Y|Cameras has batte...|Be careful with t...| 2015-08-31|\n",
            "|         US|    7846966| RY8DDL22YG4R5|B00KA6CCVY|     713636156|Aweek® Air Acoust...|Mobile_Electronics|          3|            0|          1|   N|                Y|It appears to be ...|It appears to be ...| 2015-08-31|\n",
            "|         US|   21299354|R2AT2426ZHFUHH|B00MJCDPM2|     754171872|Sentey LS-4460 B-...|Mobile_Electronics|          3|            0|          1|   N|                Y|Didn't love the f...|First one arrived...| 2015-08-31|\n",
            "|         US|   28902968|R3RRXU2R23NMQ9|B00ET5AWBY|     508373185|iPad Car Headrest...|Mobile_Electronics|          5|            0|          0|   N|                Y|          Five Stars|Worked great for ...| 2015-08-31|\n",
            "|         US|    2074438|R250PR8VJUZ62F|B00Z9K379C|     759387370|ANWING Waterproof...|Mobile_Electronics|          4|            0|          2|   N|                Y|          Four Stars|this is a very go...| 2015-08-31|\n",
            "|         US|   48701722| RBEMQ29WJBHYG|B00YO3UYXW|     913911909|Jensen MCR-100 Ca...|Mobile_Electronics|          5|          164|        168|   N|                Y|  I LOVE my recorder|I LOVE my recorde...| 2015-08-31|\n",
            "|         US|    2990247|R19VVIUT4BZCMT|B011W26BU2|     938399424|Bluetooth Speaker...|Mobile_Electronics|          5|            2|          2|   N|                Y|          Five Stars|Great sound great...| 2015-08-31|\n",
            "|         US|   52946117|R1DT8JJUQHUKUL|B00H8PI78C|     661515294|15Pcs DC 5V 85dB ...|Mobile_Electronics|          3|            0|          1|   N|                Y|More of a beeper ...|If what you want ...| 2015-08-31|\n",
            "|         US|   49359994| RLIL6S9OGM3YA|B00M49C6MK|      91176851|      Sentey Ls 4162|Mobile_Electronics|          5|            0|          0|   N|                Y|          Five Stars|             Love it| 2015-08-31|\n",
            "|         US|    4158732|R34EZZ68VYPHO0|B011Q291PK|     891142775|IcePACK 8 Can Ins...|Mobile_Electronics|          1|            1|          1|   N|                Y|            One Star|               Sucks| 2015-08-31|\n",
            "|         US|   18944032|R3TZNSOXS13SIG|B00W6OLUGQ|     577462547|DTK® AMI MDI MMI ...|Mobile_Electronics|          2|            1|          3|   N|                Y|           Two Stars|u need to plug in...| 2015-08-31|\n",
            "|         US|     279606|R12UBZT87UX3AP|B008MY1F8W|     680240984|INPA K+CAN K+DCAN...|Mobile_Electronics|          5|            2|          2|   N|                Y|          Five Stars|Worked with MHD F...| 2015-08-31|\n",
            "|         US|   10947966| R5KCRE927NYMU|B00KW3XNUE|     219920841|Magicfly Wireless...|Mobile_Electronics|          2|            0|          0|   N|                N|Battery Cover Poo...|Just arrived,  re...| 2015-08-31|\n",
            "|         US|   18387442| RT12RQFU0V2AX|B009NGR0AK|     254898339|Humminbird XNT 9 ...|Mobile_Electronics|          5|            1|          1|   N|                Y|        Works great.|I bought this uni...| 2015-08-31|\n",
            "|         US|   48950322|R2K0YQPV5W2SJ1|B011W26BU2|     938399424|Bluetooth Speaker...|Mobile_Electronics|          4|            2|          2|   N|                Y|A Lot of Sound In...|I am giving the s...| 2015-08-31|\n",
            "|         US|   48148197|R104MY31OKNGXH|B00PAP68WO|     366592530|Foxnovo 3.7V 380m...|Mobile_Electronics|          5|            0|          0|   N|                Y|          Five Stars|Met my applicatio...| 2015-08-31|\n",
            "+-----------+-----------+--------------+----------+--------------+--------------------+------------------+-----------+-------------+-----------+----+-----------------+--------------------+--------------------+-----------+\n",
            "only showing top 20 rows\n",
            "\n"
          ]
        }
      ]
    },
    {
      "cell_type": "code",
      "metadata": {
        "colab": {
          "base_uri": "https://localhost:8080/"
        },
        "id": "WCuq-Nl0vPuJ",
        "outputId": "778b9b7a-f708-4b8b-c81a-fb4d40508914"
      },
      "source": [
        "#filter initial dataframe for reviews with more than 20 votes\n",
        "bias_df = df.filter(\"total_votes>=20\")\n",
        "bias_df.show()"
      ],
      "execution_count": 4,
      "outputs": [
        {
          "output_type": "stream",
          "name": "stdout",
          "text": [
            "+-----------+-----------+--------------+----------+--------------+--------------------+------------------+-----------+-------------+-----------+----+-----------------+--------------------+--------------------+-----------+\n",
            "|marketplace|customer_id|     review_id|product_id|product_parent|       product_title|  product_category|star_rating|helpful_votes|total_votes|vine|verified_purchase|     review_headline|         review_body|review_date|\n",
            "+-----------+-----------+--------------+----------+--------------+--------------------+------------------+-----------+-------------+-----------+----+-----------------+--------------------+--------------------+-----------+\n",
            "|         US|   48701722| RBEMQ29WJBHYG|B00YO3UYXW|     913911909|Jensen MCR-100 Ca...|Mobile_Electronics|          5|          164|        168|   N|                Y|  I LOVE my recorder|I LOVE my recorde...| 2015-08-31|\n",
            "|         US|   40963441|R2JK5Y8D5MXAGP|B00SU7B0JK|      82850235|iXCC Multi pack L...|Mobile_Electronics|          1|            5|        121|   N|                Y|Buyer Beware - Ca...|I've bought a lot...| 2015-08-30|\n",
            "|         US|   25750755|R13W3EMIUV120L|B00YO3UYXW|     913911909|Jensen MCR-100 Ca...|Mobile_Electronics|          4|          288|        294|   N|                Y|The Jensen MCR-10...|I recently purcha...| 2015-08-28|\n",
            "|         US|   26155827|R30TJ8POYNVCRE|B00TQ0G130|       9677699|Coby ALL NEW 2.5\"...|Mobile_Electronics|          5|           15|         21|   N|                N|            dash cam|Great product, lo...| 2015-08-27|\n",
            "|         US|   23616875|R1H5Y9Z2DHRNVO|B00LAG4HN4|     536367292|iXCC Element II L...|Mobile_Electronics|          1|            4|         95|   N|                Y|Great design, Ter...|I wanted to love ...| 2015-08-26|\n",
            "|         US|   29092404|R1LK03P7BCJEJD|B00YO3UYXW|     913911909|Jensen MCR-100 Ca...|Mobile_Electronics|          1|           31|         35|   N|                Y|            One Star|Playback is disto...| 2015-08-22|\n",
            "|         US|   33177916| RBXUICKGHL685|B00YO3UYXW|     913911909|Jensen MCR-100 Ca...|Mobile_Electronics|          1|           48|         52|   N|                N|Chewed up within ...|Terrible!!  Chewe...| 2015-08-21|\n",
            "|         US|   42331191|R2E16WLZKP78GO|B00TQYCU0Y|     328706129|Garmin nüvi 65LM ...|Mobile_Electronics|          5|           19|         21|   N|                Y|           Satisfied|Garmin nuvi 65lm ...| 2015-08-20|\n",
            "|         US|    3913139|R1EN4PGQIFSENW|B00LAG4HN4|     536367292|iXCC Element II L...|Mobile_Electronics|          5|           27|         28|   N|                Y|I've bought 4 of ...|So we've all had ...| 2015-08-10|\n",
            "|         US|   43755322| RXZWQU66AHIYG|B00TQYEONA|     376434637|Garmin dezl 760LM...|Mobile_Electronics|          5|           24|         25|   N|                Y|THE BEST UNIT I H...|Today 8/10/2015 w...| 2015-08-10|\n",
            "|         US|   45886406|R2IXCZCSUKH8FB|B00CJZLHN8|     869734493|Apple Ipod Nano 7...|Mobile_Electronics|          3|           78|         82|   N|                Y|Still limited to ...|As many other rev...| 2015-08-04|\n",
            "|         US|    3120094|R25RB38U9LL8OE|B010W4OF4K|     649814137|Escort Passport X...|Mobile_Electronics|          5|           24|         29|   N|                Y|best radar detect...|We have owned man...| 2015-08-04|\n",
            "|         US|   21862658|R1Q0XK7VKU3EKX|B00J46XO9U|     744008282|iXCC Lightning Ca...|Mobile_Electronics|          1|            7|        130|   N|                Y|  I caught on fire!!|I plugged it on m...| 2015-07-25|\n",
            "|         US|   40159163| RSHPPH6BRXYRS|B00QMMBXA6|     827642739|Tomtom VIA 1515M ...|Mobile_Electronics|          2|           42|         48|   N|                N|     Not Recommended|This is my third ...| 2015-07-22|\n",
            "|         US|    6867529|R39HYCYEWFZP3B|B00Y2100OO|     161663398|LiteXim All in On...|Mobile_Electronics|          5|           36|         36|   N|                N|Awesome mp3/mp4 P...|[[VIDEOID:1a66cff...| 2015-07-22|\n",
            "|         US|   26362086|R2C68DIKTG0M7W|B00TQYCU0Y|     328706129|Garmin nüvi 65LM ...|Mobile_Electronics|          5|           18|         20|   N|                Y|      Love this GPS!|I have only used ...| 2015-07-20|\n",
            "|         US|   34123746|R2I6O4S2CZK8WQ|B00EDM5WV8|     998105706|SPOT-3O Spot Gen3...|Mobile_Electronics|          1|          175|        181|   N|                Y|Failed after firs...|I've had a spot t...| 2015-07-20|\n",
            "|         US|   18226253|R1EPU8R4MVRIQ7|B00XJJU4SC|     965917258|Juentai JT-6188 D...|Mobile_Electronics|          4|           21|         22|   N|                Y|Nice little dual ...|These are pretty ...| 2015-07-19|\n",
            "|         US|   52807030| RN55T65W485LS|B00VU7PGPQ|     973149575|[New Element Seri...|Mobile_Electronics|          1|            5|        222|   N|                N|Visually looks go...|I've never writte...| 2015-07-15|\n",
            "|         US|   48531577|R1AL1OVEHNX5JC|B010P73G76|     995824709|Phtronics 2015 La...|Mobile_Electronics|          5|           19|         22|   N|                Y|This is a great m...|This is a great m...| 2015-07-15|\n",
            "+-----------+-----------+--------------+----------+--------------+--------------------+------------------+-----------+-------------+-----------+----+-----------------+--------------------+--------------------+-----------+\n",
            "only showing top 20 rows\n",
            "\n"
          ]
        }
      ]
    },
    {
      "cell_type": "code",
      "metadata": {
        "colab": {
          "base_uri": "https://localhost:8080/"
        },
        "id": "3B6IBssEvbka",
        "outputId": "20f68fea-c7fc-4e46-908b-da9c82b951b8"
      },
      "source": [
        "#filter new dataframe to obtain rows where number of helpful_votes divided by total votes equal to or greater than %50\n",
        "filtered_bias_df = bias_df.filter((bias_df[\"helpful_votes\"]/bias_df[\"total_votes\"])>.5)\n",
        "filtered_bias_df.show()"
      ],
      "execution_count": 5,
      "outputs": [
        {
          "output_type": "stream",
          "name": "stdout",
          "text": [
            "+-----------+-----------+--------------+----------+--------------+--------------------+------------------+-----------+-------------+-----------+----+-----------------+--------------------+--------------------+-----------+\n",
            "|marketplace|customer_id|     review_id|product_id|product_parent|       product_title|  product_category|star_rating|helpful_votes|total_votes|vine|verified_purchase|     review_headline|         review_body|review_date|\n",
            "+-----------+-----------+--------------+----------+--------------+--------------------+------------------+-----------+-------------+-----------+----+-----------------+--------------------+--------------------+-----------+\n",
            "|         US|   48701722| RBEMQ29WJBHYG|B00YO3UYXW|     913911909|Jensen MCR-100 Ca...|Mobile_Electronics|          5|          164|        168|   N|                Y|  I LOVE my recorder|I LOVE my recorde...| 2015-08-31|\n",
            "|         US|   25750755|R13W3EMIUV120L|B00YO3UYXW|     913911909|Jensen MCR-100 Ca...|Mobile_Electronics|          4|          288|        294|   N|                Y|The Jensen MCR-10...|I recently purcha...| 2015-08-28|\n",
            "|         US|   26155827|R30TJ8POYNVCRE|B00TQ0G130|       9677699|Coby ALL NEW 2.5\"...|Mobile_Electronics|          5|           15|         21|   N|                N|            dash cam|Great product, lo...| 2015-08-27|\n",
            "|         US|   29092404|R1LK03P7BCJEJD|B00YO3UYXW|     913911909|Jensen MCR-100 Ca...|Mobile_Electronics|          1|           31|         35|   N|                Y|            One Star|Playback is disto...| 2015-08-22|\n",
            "|         US|   33177916| RBXUICKGHL685|B00YO3UYXW|     913911909|Jensen MCR-100 Ca...|Mobile_Electronics|          1|           48|         52|   N|                N|Chewed up within ...|Terrible!!  Chewe...| 2015-08-21|\n",
            "|         US|   42331191|R2E16WLZKP78GO|B00TQYCU0Y|     328706129|Garmin nüvi 65LM ...|Mobile_Electronics|          5|           19|         21|   N|                Y|           Satisfied|Garmin nuvi 65lm ...| 2015-08-20|\n",
            "|         US|    3913139|R1EN4PGQIFSENW|B00LAG4HN4|     536367292|iXCC Element II L...|Mobile_Electronics|          5|           27|         28|   N|                Y|I've bought 4 of ...|So we've all had ...| 2015-08-10|\n",
            "|         US|   43755322| RXZWQU66AHIYG|B00TQYEONA|     376434637|Garmin dezl 760LM...|Mobile_Electronics|          5|           24|         25|   N|                Y|THE BEST UNIT I H...|Today 8/10/2015 w...| 2015-08-10|\n",
            "|         US|   45886406|R2IXCZCSUKH8FB|B00CJZLHN8|     869734493|Apple Ipod Nano 7...|Mobile_Electronics|          3|           78|         82|   N|                Y|Still limited to ...|As many other rev...| 2015-08-04|\n",
            "|         US|    3120094|R25RB38U9LL8OE|B010W4OF4K|     649814137|Escort Passport X...|Mobile_Electronics|          5|           24|         29|   N|                Y|best radar detect...|We have owned man...| 2015-08-04|\n",
            "|         US|   40159163| RSHPPH6BRXYRS|B00QMMBXA6|     827642739|Tomtom VIA 1515M ...|Mobile_Electronics|          2|           42|         48|   N|                N|     Not Recommended|This is my third ...| 2015-07-22|\n",
            "|         US|    6867529|R39HYCYEWFZP3B|B00Y2100OO|     161663398|LiteXim All in On...|Mobile_Electronics|          5|           36|         36|   N|                N|Awesome mp3/mp4 P...|[[VIDEOID:1a66cff...| 2015-07-22|\n",
            "|         US|   26362086|R2C68DIKTG0M7W|B00TQYCU0Y|     328706129|Garmin nüvi 65LM ...|Mobile_Electronics|          5|           18|         20|   N|                Y|      Love this GPS!|I have only used ...| 2015-07-20|\n",
            "|         US|   34123746|R2I6O4S2CZK8WQ|B00EDM5WV8|     998105706|SPOT-3O Spot Gen3...|Mobile_Electronics|          1|          175|        181|   N|                Y|Failed after firs...|I've had a spot t...| 2015-07-20|\n",
            "|         US|   18226253|R1EPU8R4MVRIQ7|B00XJJU4SC|     965917258|Juentai JT-6188 D...|Mobile_Electronics|          4|           21|         22|   N|                Y|Nice little dual ...|These are pretty ...| 2015-07-19|\n",
            "|         US|   48531577|R1AL1OVEHNX5JC|B010P73G76|     995824709|Phtronics 2015 La...|Mobile_Electronics|          5|           19|         22|   N|                Y|This is a great m...|This is a great m...| 2015-07-15|\n",
            "|         US|   10044506| RVE1FMV48N1ZD|B00VU7PKZW|     595921774|iXCC Element Seri...|Mobile_Electronics|          5|           37|         41|   N|                N|Good solid constr...|Quality product w...| 2015-07-14|\n",
            "|         US|   14080076| R6SR9BXDPIYMZ|B00TQYCU0Y|     328706129|Garmin nüvi 65LM ...|Mobile_Electronics|          5|           51|         57|   N|                Y|Fast delivery.  R...|This refurbed 6&#...| 2015-07-10|\n",
            "|         US|   28150579|R1JQPDB1WJ4CKV|B00OYVJLZQ|     312846790|Pioneer AVH-X7700...|Mobile_Electronics|          3|           25|         26|   N|                N|Basic MirrorLink ...|I would give this...| 2015-07-05|\n",
            "|         US|   47211331|R3L7LS0NW1L6PQ|B00J46XO9U|     744008282|iXCC Lightning Ca...|Mobile_Electronics|          5|           97|        101|   N|                Y|A less expensive ...|I use this cable ...| 2015-06-24|\n",
            "+-----------+-----------+--------------+----------+--------------+--------------------+------------------+-----------+-------------+-----------+----+-----------------+--------------------+--------------------+-----------+\n",
            "only showing top 20 rows\n",
            "\n"
          ]
        }
      ]
    },
    {
      "cell_type": "code",
      "metadata": {
        "colab": {
          "base_uri": "https://localhost:8080/"
        },
        "id": "5r2OhA8DvgA2",
        "outputId": "2ef542cf-6f56-4100-c24a-7ba44dd799ce"
      },
      "source": [
        "#new dataframe that retrieves all rows where review was written as part of Vine program\n",
        "paid_review_df = filtered_bias_df.filter(\"vine == 'Y'\")\n",
        "paid_review_df.show()"
      ],
      "execution_count": 6,
      "outputs": [
        {
          "output_type": "stream",
          "name": "stdout",
          "text": [
            "+-----------+-----------+--------------+----------+--------------+--------------------+------------------+-----------+-------------+-----------+----+-----------------+--------------------+--------------------+-----------+\n",
            "|marketplace|customer_id|     review_id|product_id|product_parent|       product_title|  product_category|star_rating|helpful_votes|total_votes|vine|verified_purchase|     review_headline|         review_body|review_date|\n",
            "+-----------+-----------+--------------+----------+--------------+--------------------+------------------+-----------+-------------+-----------+----+-----------------+--------------------+--------------------+-----------+\n",
            "|         US|   52490988|R3BOQTLUU3Y4L8|B00EP0SIOG|     628459233|Orbotix Sphero 2....|Mobile_Electronics|          4|           42|         55|   Y|                N|Lot of fun, but f...|Before receiving ...| 2013-11-19|\n",
            "|         US|   48814959| RWF03LXVXC22A|B00EP0SIOG|     628459233|Orbotix Sphero 2....|Mobile_Electronics|          3|          396|        445|   Y|                N|The coolest thing...|***** Update 12/3...| 2013-11-06|\n",
            "|         US|   34641748| REPU28WG1VZUE|B00EP0SIOG|     628459233|Orbotix Sphero 2....|Mobile_Electronics|          5|          242|        281|   Y|                N|The funest new to...|...or at least I ...| 2013-10-24|\n",
            "|         US|   52477683|R1D6REC9HPJVQY|B00EP0SIOG|     628459233|Orbotix Sphero 2....|Mobile_Electronics|          4|           31|         41|   Y|                N|Fun toy for kids,...|This new version ...| 2013-10-21|\n",
            "+-----------+-----------+--------------+----------+--------------+--------------------+------------------+-----------+-------------+-----------+----+-----------------+--------------------+--------------------+-----------+\n",
            "\n"
          ]
        }
      ]
    },
    {
      "cell_type": "code",
      "metadata": {
        "colab": {
          "base_uri": "https://localhost:8080/"
        },
        "id": "BsuhNx8Uvh_u",
        "outputId": "f65d2872-675b-4aec-fda5-6dcf54249888"
      },
      "source": [
        "#new dataframe where review was not written as part of vine program\n",
        "unpaid_review_df = filtered_bias_df.filter(\"vine == 'N'\")\n",
        "unpaid_review_df.show()"
      ],
      "execution_count": 7,
      "outputs": [
        {
          "output_type": "stream",
          "name": "stdout",
          "text": [
            "+-----------+-----------+--------------+----------+--------------+--------------------+------------------+-----------+-------------+-----------+----+-----------------+--------------------+--------------------+-----------+\n",
            "|marketplace|customer_id|     review_id|product_id|product_parent|       product_title|  product_category|star_rating|helpful_votes|total_votes|vine|verified_purchase|     review_headline|         review_body|review_date|\n",
            "+-----------+-----------+--------------+----------+--------------+--------------------+------------------+-----------+-------------+-----------+----+-----------------+--------------------+--------------------+-----------+\n",
            "|         US|   48701722| RBEMQ29WJBHYG|B00YO3UYXW|     913911909|Jensen MCR-100 Ca...|Mobile_Electronics|          5|          164|        168|   N|                Y|  I LOVE my recorder|I LOVE my recorde...| 2015-08-31|\n",
            "|         US|   25750755|R13W3EMIUV120L|B00YO3UYXW|     913911909|Jensen MCR-100 Ca...|Mobile_Electronics|          4|          288|        294|   N|                Y|The Jensen MCR-10...|I recently purcha...| 2015-08-28|\n",
            "|         US|   26155827|R30TJ8POYNVCRE|B00TQ0G130|       9677699|Coby ALL NEW 2.5\"...|Mobile_Electronics|          5|           15|         21|   N|                N|            dash cam|Great product, lo...| 2015-08-27|\n",
            "|         US|   29092404|R1LK03P7BCJEJD|B00YO3UYXW|     913911909|Jensen MCR-100 Ca...|Mobile_Electronics|          1|           31|         35|   N|                Y|            One Star|Playback is disto...| 2015-08-22|\n",
            "|         US|   33177916| RBXUICKGHL685|B00YO3UYXW|     913911909|Jensen MCR-100 Ca...|Mobile_Electronics|          1|           48|         52|   N|                N|Chewed up within ...|Terrible!!  Chewe...| 2015-08-21|\n",
            "|         US|   42331191|R2E16WLZKP78GO|B00TQYCU0Y|     328706129|Garmin nüvi 65LM ...|Mobile_Electronics|          5|           19|         21|   N|                Y|           Satisfied|Garmin nuvi 65lm ...| 2015-08-20|\n",
            "|         US|    3913139|R1EN4PGQIFSENW|B00LAG4HN4|     536367292|iXCC Element II L...|Mobile_Electronics|          5|           27|         28|   N|                Y|I've bought 4 of ...|So we've all had ...| 2015-08-10|\n",
            "|         US|   43755322| RXZWQU66AHIYG|B00TQYEONA|     376434637|Garmin dezl 760LM...|Mobile_Electronics|          5|           24|         25|   N|                Y|THE BEST UNIT I H...|Today 8/10/2015 w...| 2015-08-10|\n",
            "|         US|   45886406|R2IXCZCSUKH8FB|B00CJZLHN8|     869734493|Apple Ipod Nano 7...|Mobile_Electronics|          3|           78|         82|   N|                Y|Still limited to ...|As many other rev...| 2015-08-04|\n",
            "|         US|    3120094|R25RB38U9LL8OE|B010W4OF4K|     649814137|Escort Passport X...|Mobile_Electronics|          5|           24|         29|   N|                Y|best radar detect...|We have owned man...| 2015-08-04|\n",
            "|         US|   40159163| RSHPPH6BRXYRS|B00QMMBXA6|     827642739|Tomtom VIA 1515M ...|Mobile_Electronics|          2|           42|         48|   N|                N|     Not Recommended|This is my third ...| 2015-07-22|\n",
            "|         US|    6867529|R39HYCYEWFZP3B|B00Y2100OO|     161663398|LiteXim All in On...|Mobile_Electronics|          5|           36|         36|   N|                N|Awesome mp3/mp4 P...|[[VIDEOID:1a66cff...| 2015-07-22|\n",
            "|         US|   26362086|R2C68DIKTG0M7W|B00TQYCU0Y|     328706129|Garmin nüvi 65LM ...|Mobile_Electronics|          5|           18|         20|   N|                Y|      Love this GPS!|I have only used ...| 2015-07-20|\n",
            "|         US|   34123746|R2I6O4S2CZK8WQ|B00EDM5WV8|     998105706|SPOT-3O Spot Gen3...|Mobile_Electronics|          1|          175|        181|   N|                Y|Failed after firs...|I've had a spot t...| 2015-07-20|\n",
            "|         US|   18226253|R1EPU8R4MVRIQ7|B00XJJU4SC|     965917258|Juentai JT-6188 D...|Mobile_Electronics|          4|           21|         22|   N|                Y|Nice little dual ...|These are pretty ...| 2015-07-19|\n",
            "|         US|   48531577|R1AL1OVEHNX5JC|B010P73G76|     995824709|Phtronics 2015 La...|Mobile_Electronics|          5|           19|         22|   N|                Y|This is a great m...|This is a great m...| 2015-07-15|\n",
            "|         US|   10044506| RVE1FMV48N1ZD|B00VU7PKZW|     595921774|iXCC Element Seri...|Mobile_Electronics|          5|           37|         41|   N|                N|Good solid constr...|Quality product w...| 2015-07-14|\n",
            "|         US|   14080076| R6SR9BXDPIYMZ|B00TQYCU0Y|     328706129|Garmin nüvi 65LM ...|Mobile_Electronics|          5|           51|         57|   N|                Y|Fast delivery.  R...|This refurbed 6&#...| 2015-07-10|\n",
            "|         US|   28150579|R1JQPDB1WJ4CKV|B00OYVJLZQ|     312846790|Pioneer AVH-X7700...|Mobile_Electronics|          3|           25|         26|   N|                N|Basic MirrorLink ...|I would give this...| 2015-07-05|\n",
            "|         US|   47211331|R3L7LS0NW1L6PQ|B00J46XO9U|     744008282|iXCC Lightning Ca...|Mobile_Electronics|          5|           97|        101|   N|                Y|A less expensive ...|I use this cable ...| 2015-06-24|\n",
            "+-----------+-----------+--------------+----------+--------------+--------------------+------------------+-----------+-------------+-----------+----+-----------------+--------------------+--------------------+-----------+\n",
            "only showing top 20 rows\n",
            "\n"
          ]
        }
      ]
    },
    {
      "cell_type": "code",
      "metadata": {
        "colab": {
          "base_uri": "https://localhost:8080/"
        },
        "id": "x7e83HIkv-DT",
        "outputId": "bb76f239-e320-42a9-f78c-f7b97d7be36f"
      },
      "source": [
        "#determine total number of reviews\n",
        "total_votes = bias_df.select(\"review_id\").count()\n",
        "print(total_votes)\n"
      ],
      "execution_count": 23,
      "outputs": [
        {
          "output_type": "stream",
          "name": "stdout",
          "text": [
            "1190\n"
          ]
        }
      ]
    },
    {
      "cell_type": "code",
      "metadata": {
        "colab": {
          "base_uri": "https://localhost:8080/"
        },
        "id": "FAwPCEV_xEnN",
        "outputId": "4b71fcd4-bfe8-4bc4-db1f-28ca44eb87c4"
      },
      "source": [
        "#determine the number of 5-star reviews\n",
        "five_star_count = bias_df.filter(\"star_rating = 5\").count()\n",
        "print(five_star_count)  "
      ],
      "execution_count": 35,
      "outputs": [
        {
          "output_type": "stream",
          "name": "stdout",
          "text": [
            "558\n"
          ]
        }
      ]
    },
    {
      "cell_type": "code",
      "metadata": {
        "colab": {
          "base_uri": "https://localhost:8080/"
        },
        "id": "MX0TRtWVADOg",
        "outputId": "3cc2c819-b769-466c-b9bd-d41e230af8d8"
      },
      "source": [
        "#determine percentage of five star reviews for paid reviews\n",
        "paid_percentage = (paid_review_df.filter(\"star_rating = 5\").count()) / five_star_count\n",
        "paid_percentage = \"{:.2%}\".format(paid_percentage)\n",
        "print(f\"{paid_percentage} of five star reviews came from paid reviews.\")"
      ],
      "execution_count": 43,
      "outputs": [
        {
          "output_type": "stream",
          "name": "stdout",
          "text": [
            "0.18% of five star reviews came from paid reviews.\n"
          ]
        }
      ]
    },
    {
      "cell_type": "code",
      "metadata": {
        "colab": {
          "base_uri": "https://localhost:8080/"
        },
        "id": "b3cYVG7dDwmQ",
        "outputId": "3fa12927-25c8-4cca-f6e7-5000f83b1434"
      },
      "source": [
        "#determine percentage of five star reviews for unpaid reviews\n",
        "unpaid_percentage = (unpaid_review_df.filter(\"star_rating = 5\").count()) / five_star_count\n",
        "unpaid_percentage = \"{:.2%}\".format(unpaid_percentage)\n",
        "print(f\"{unpaid_percentage} of five star reviews came from unpaid reviews.\")"
      ],
      "execution_count": 45,
      "outputs": [
        {
          "output_type": "stream",
          "name": "stdout",
          "text": [
            "94.09% of five star reviews came from unpaid reviews.\n"
          ]
        }
      ]
    }
  ]
}